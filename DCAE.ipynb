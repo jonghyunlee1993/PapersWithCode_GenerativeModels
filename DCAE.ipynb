{
 "cells": [
  {
   "cell_type": "code",
   "execution_count": 7,
   "id": "73b650c6",
   "metadata": {
    "scrolled": true
   },
   "outputs": [],
   "source": [
    "import os\n",
    "import matplotlib.pyplot as plt\n",
    "from collections import OrderedDict\n",
    "\n",
    "import torch\n",
    "import torch.nn as nn\n",
    "import torch.nn.functional as F\n",
    "from torch.utils.data import DataLoader, random_split\n",
    "from torchvision import transforms\n",
    "from torchvision.datasets import MNIST\n",
    "\n",
    "import pytorch_lightning as pl\n",
    "from pytorch_lightning.callbacks import ModelCheckpoint\n",
    "\n",
    "\n",
    "if not os.path.exists(\"data/MNIST\"):\n",
    "    MNIST(\"data\", train=True, download=True)\n",
    "    MNIST(\"data\", train=False, download=True)\n",
    "\n",
    "batch_size = 256\n",
    "num_workers = 8\n",
    "transform = transforms.Compose([\n",
    "    transforms.ToTensor()\n",
    "])\n",
    "    \n",
    "mnist_full = MNIST(\"data\", train=True, transform=transform)\n",
    "train_data, valid_data = random_split(mnist_full, [55000, 5000])\n",
    "test_data = MNIST(\"data\", train=False, transform=transform)\n",
    "\n",
    "train_dataloader = DataLoader(train_data, batch_size=batch_size, num_workers=num_workers)\n",
    "valid_dataloader = DataLoader(valid_data, batch_size=batch_size, num_workers=num_workers)\n",
    "test_dataloader = DataLoader(test_data, batch_size=batch_size, num_workers=num_workers)"
   ]
  },
  {
   "cell_type": "code",
   "execution_count": 2,
   "id": "bf90ae34",
   "metadata": {},
   "outputs": [],
   "source": [
    "# https://esther-eun27.tistory.com/4\n",
    "class Encoder(nn.Module):\n",
    "    def __init__(self):\n",
    "        super().__init__()\n",
    "        \n",
    "        self.block1 = nn.Sequential(\n",
    "            nn.Conv2d(1, 16, kernel_size=3, stride=1, padding=1),\n",
    "            nn.ReLU(),\n",
    "            nn.MaxPool2d(2, 2)\n",
    "        )\n",
    "        \n",
    "        self.block2 = nn.Sequential(\n",
    "            nn.Conv2d(16, 32, kernel_size=3, stride=1, padding=1),\n",
    "            nn.ReLU(),\n",
    "            nn.MaxPool2d(2, 2)\n",
    "        )\n",
    "        \n",
    "        \n",
    "    def forward(self, x):\n",
    "        for layer in [self.block1, self.block2]:\n",
    "            x = layer(x)\n",
    "            \n",
    "        return x\n",
    "\n",
    "        \n",
    "class Decoder(nn.Module):\n",
    "    def __init__(self):\n",
    "        super().__init__()\n",
    "        \n",
    "        self.block1 = nn.Sequential(\n",
    "            nn.ConvTranspose2d(32, 16, kernel_size=2, stride=2, padding=0),\n",
    "            nn.ReLU()\n",
    "        )\n",
    "        \n",
    "        self.block2 = nn.Sequential(\n",
    "            nn.ConvTranspose2d(16, 1, kernel_size=2, stride=2, padding=0)\n",
    "        )\n",
    "       \n",
    "    \n",
    "    def forward(self, x):\n",
    "        for layer in [self.block1, self.block2]:\n",
    "            x = layer(x) \n",
    "            \n",
    "        x = F.sigmoid(x)\n",
    "        \n",
    "        return x\n",
    "\n",
    "    \n",
    "class AutoEncoder(nn.Module):\n",
    "    def __init__(self, encoder, decoder):\n",
    "        super().__init__()\n",
    "        self.encoder = encoder\n",
    "        self.decoder = decoder\n",
    "        \n",
    "        \n",
    "    def forward(self, x):\n",
    "        x = self.encoder(x)\n",
    "        x = self.decoder(x)\n",
    "        \n",
    "        return x\n"
   ]
  },
  {
   "cell_type": "code",
   "execution_count": 3,
   "id": "aaf59719",
   "metadata": {},
   "outputs": [
    {
     "name": "stderr",
     "output_type": "stream",
     "text": [
      "/home/ubuntu/anaconda3/envs/pytorch/lib/python3.8/site-packages/pytorch_lightning/trainer/connectors/accelerator_connector.py:429: LightningDeprecationWarning: Setting `Trainer(gpus=1)` is deprecated in v1.7 and will be removed in v2.0. Please use `Trainer(accelerator='gpu', devices=1)` instead.\n",
      "  rank_zero_deprecation(\n",
      "GPU available: True, used: True\n",
      "TPU available: False, using: 0 TPU cores\n",
      "IPU available: False, using: 0 IPUs\n",
      "HPU available: False, using: 0 HPUs\n"
     ]
    }
   ],
   "source": [
    "class AE(pl.LightningModule):\n",
    "    def __init__(self, model):\n",
    "        super().__init__()\n",
    "        self.model = model\n",
    "    \n",
    "    \n",
    "    def forward(self, x):\n",
    "        return self.model(x)\n",
    "    \n",
    "    \n",
    "    def training_step(self, batch, batch_idx):\n",
    "        imgs, _ = batch\n",
    "        \n",
    "        recon_imgs = self(imgs)\n",
    "        loss = F.mse_loss(recon_imgs, imgs)\n",
    "\n",
    "        self.log('train_loss', loss, on_step=False, on_epoch=True, prog_bar=True)\n",
    "        \n",
    "        return loss\n",
    "    \n",
    "    \n",
    "    def validation_step(self, batch, batch_idx):\n",
    "        imgs, _ = batch\n",
    "        \n",
    "        recon_imgs = self(imgs)\n",
    "        loss = F.mse_loss(recon_imgs, imgs)\n",
    "        \n",
    "        self.log('valid_loss', loss, on_step=False, on_epoch=True, prog_bar=True)\n",
    "        \n",
    "        \n",
    "    def configure_optimizers(self):\n",
    "        optimizer = torch.optim.Adam(self.model.parameters(), lr=0.0002, betas=(0.9, 0.999))\n",
    "        \n",
    "        return optimizer\n",
    "\n",
    "\n",
    "callbacks = [\n",
    "    ModelCheckpoint(monitor='valid_loss', save_top_k=5, dirpath='weights/DCAE', filename='ConvolutionalAE-{epoch:03d}-{valid_loss:.4f}'),\n",
    "]\n",
    "\n",
    "\n",
    "encoder = Encoder()\n",
    "decoder = Decoder()\n",
    "\n",
    "model = AutoEncoder(encoder=encoder, decoder=decoder)\n",
    "auto_encoder = AE(model)\n",
    "trainer = pl.Trainer(gpus=1, max_epochs=30, enable_progress_bar=True, callbacks=callbacks)"
   ]
  },
  {
   "cell_type": "code",
   "execution_count": 4,
   "id": "26b80578",
   "metadata": {
    "scrolled": true
   },
   "outputs": [],
   "source": [
    "# trainer.fit(auto_encoder, train_dataloader, valid_dataloader)"
   ]
  },
  {
   "cell_type": "code",
   "execution_count": 5,
   "id": "251ad41b",
   "metadata": {},
   "outputs": [],
   "source": [
    "import random\n",
    "\n",
    "idx = list(range(len(test_data.data)))\n",
    "random.shuffle(idx)\n",
    "idx = idx[:16]\n",
    "test_samples = test_data.data[idx].unsqueeze(1).float()"
   ]
  },
  {
   "cell_type": "code",
   "execution_count": 8,
   "id": "6b4cf0f0",
   "metadata": {},
   "outputs": [
    {
     "data": {
      "image/png": "[encoded data removed]",
      "text/plain": [
       "<Figure size 720x720 with 16 Axes>"
      ]
     },
     "metadata": {
      "needs_background": "light"
     },
     "output_type": "display_data"
    }
   ],
   "source": [
    "ckpt_fname = \"ConvolutionalAE-epoch=029-valid_loss=0.8531.ckpt\"\n",
    "auto_encoder = auto_encoder.load_from_checkpoint(\"weights/DCAE/\" + ckpt_fname, model=model)\n",
    "\n",
    "samples = auto_encoder(test_samples).view(-1, 1, 28, 28)\n",
    "samples = samples.detach().moveaxis(1, -1).to(\"cpu\").numpy()\n",
    "\n",
    "plt.figure(figsize=(10, 10))\n",
    "plt.subplots_adjust(hspace=0.5, wspace=0.5)\n",
    "for i in range(16):\n",
    "    plt.subplot(4, 4, i + 1)\n",
    "    plt.imshow(samples[i, :], cmap=\"gray\")\n",
    "\n",
    "plt.show()"
   ]
  },
  {
   "cell_type": "code",
   "execution_count": null,
   "id": "c703b892",
   "metadata": {},
   "outputs": [],
   "source": []
  }
 ],
 "metadata": {
  "kernelspec": {
   "display_name": "Python 3 (ipykernel)",
   "language": "python",
   "name": "python3"
  },
  "language_info": {
   "codemirror_mode": {
    "name": "ipython",
    "version": 3
   },
   "file_extension": ".py",
   "mimetype": "text/x-python",
   "name": "python",
   "nbconvert_exporter": "python",
   "pygments_lexer": "ipython3",
   "version": "3.8.13"
  }
 },
 "nbformat": 4,
 "nbformat_minor": 5
}
